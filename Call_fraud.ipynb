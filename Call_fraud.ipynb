{
  "nbformat": 4,
  "nbformat_minor": 0,
  "metadata": {
    "colab": {
      "provenance": [],
      "authorship_tag": "ABX9TyMMY0P7Z0jNVL6TCDtomddR",
      "include_colab_link": true
    },
    "kernelspec": {
      "name": "python3",
      "display_name": "Python 3"
    },
    "language_info": {
      "name": "python"
    }
  },
  "cells": [
    {
      "cell_type": "markdown",
      "metadata": {
        "id": "view-in-github",
        "colab_type": "text"
      },
      "source": [
        "<a href=\"https://colab.research.google.com/github/kemal8/Python_Data_Analyzing_projects/blob/main/Call_fraud.ipynb\" target=\"_parent\"><img src=\"https://colab.research.google.com/assets/colab-badge.svg\" alt=\"Open In Colab\"/></a>"
      ]
    },
    {
      "cell_type": "markdown",
      "source": [
        "# **IDD Call**\n",
        "\n",
        "International Direct Dialing (IDD) is a telecommunications technology that allows callers in one country to dial and connect with subscribers in another country without the need for operator assistance. IDD calls enable global communication and are facilitated by a series of interconnected telecommunications networks. Here's an overview of how IDD calls work:\n",
        "\n",
        "# **1. User Initiates Call:**\n",
        "\n",
        "A caller initiates an international call by dialing the international access code (often \"00\" or \"+\") followed by the country code of the destination and the subscriber's local number.\n",
        "\n",
        "# **2. Local Exchange Handling:**\n",
        "\n",
        "The call is initially directed to the local telephone exchange (also known as a central office) where the caller is located. The local exchange is responsible for routing calls within the same geographic area.\n",
        "\n",
        "# **3. Accessing the International Gateway:**\n",
        "\n",
        "After receiving the call, the local exchange determines that it is an international call and routes it to an international gateway or carrier switch. The international gateway is a node that connects to the global telecommunications network.\n",
        "\n",
        "# **4.Interconnecting Carriers:**\n",
        "\n",
        "The international gateway forwards the call to an appropriate long-distance carrier or international carrier. These carriers have agreements and networks that interconnect globally. The call may pass through multiple carriers, especially if it involves several countries.\n",
        "\n",
        "# **5.Transit Through Submarine Cables or Satellite Links:**\n",
        "\n",
        "For long-distance international calls, the communication may traverse submarine fiber-optic cables laid on the ocean floor or satellite links. Submarine cables are commonly used for high-capacity, reliable communication, while satellites may be used in areas where laying cables is not feasible.\n",
        "\n",
        "# **6.Routing to Destination Country:**\n",
        "\n",
        "The call arrives at the international gateway in the destination country. The gateway then routes the call to the local carrier or exchange within that country.\n",
        "\n",
        "# **7.Local Exchange in Destination Country:**\n",
        "\n",
        "The call is handed off to the local exchange in the destination country based on the recipient's phone number and local area code.\n",
        "\n",
        "# **8.Connecting to the Subscriber:**\n",
        "\n",
        "The local exchange identifies the destination subscriber and establishes the connection to the recipient's phone line.\n",
        "\n",
        "# **9.Call Completion:**\n",
        "\n",
        "Once the connection is established, the call is completed, and the two parties can communicate.\n",
        "\n",
        "# **10.Billing and Settlement:**\n",
        "\n",
        "Throughout the process, information related to the call, including its duration and origin, is logged for billing purposes. Billing and settlement agreements between carriers ensure that the appropriate charges are applied for the international call.\n",
        "It's important to note that with advancements in technology, Voice over Internet Protocol (VoIP) has become a prevalent method for facilitating international calls. VoIP services convert voice signals into digital data and transmit them over the internet, bypassing traditional telephony infrastructure. This technology has contributed to cost reductions and increased flexibility in international communication."
      ],
      "metadata": {
        "id": "NSAg_X31j2Yx"
      }
    },
    {
      "cell_type": "markdown",
      "source": [
        "# **IDD call fraud**\n",
        "\n",
        "IDD (International Direct Dialing) call fraud refers to fraudulent activities related to international phone calls, where individuals or entities attempt to manipulate the telecommunication system to generate revenue without paying the correct amount. This type of fraud can have significant financial implications for service providers. Here are some scenarios and methods through which IDD call fraud may occur:\n",
        "\n",
        "# **1.Call Spoofing:**\n",
        "\n",
        "* Scenario: Fraudsters use techniques to manipulate the caller ID information, making it appear as if the call is originating from a legitimate and paying customer.\n",
        "* Method: Callers may use VoIP (Voice over Internet Protocol) services to alter the caller ID, making it difficult for service providers to identify the actual origin of the call.\n",
        "\n",
        "# **2.Subscription Fraud:**\n",
        "\n",
        "* Scenario: Fraudsters subscribe to IDD services using false or stolen identities.\n",
        "* Method: Criminals may use stolen personal information to subscribe to international calling services, bypassing security measures and resulting in unauthorized access to IDD resources.\n",
        "\n",
        "# **3.Traffic Pumping or Looping:**\n",
        "\n",
        "* Scenario: Fraudsters exploit the revenue-sharing agreements between service providers and intermediaries to generate artificial call traffic.\n",
        "* Method: Calls are rerouted through multiple intermediaries or high-cost destinations to inflate call volumes and revenue for the fraudsters.\n",
        "\n",
        "# **4.SIM Box Fraud:**\n",
        "\n",
        "* Scenario: Fraudsters use multiple SIM cards connected to a device known as a SIM box to route international calls through local numbers.\n",
        "* Method: By using local numbers, fraudsters attempt to benefit from lower local call rates, while the actual calls are international. This allows them to bypass international call charges.\n",
        "\n",
        "# **5.False Answer Supervision:**\n",
        "\n",
        "* Scenario: Fraudsters manipulate systems to generate call charges without the call being answered by the intended recipient.\n",
        "* Method: Techniques such as false answer supervision involve signaling manipulation to indicate that a call has been answered, triggering billing mechanisms, even if the call is not completed.\n",
        "\n",
        "# **6.PBX Hacking:**\n",
        "\n",
        "* Scenario: Unauthorized access to private branch exchange (PBX) systems.\n",
        "* Method: Fraudsters may gain access to a company's PBX system and use it to make international calls, with the charges billed to the legitimate company.\n",
        "\n",
        "# **7.Call Forwarding Abuse:**\n",
        "\n",
        "* Scenario: Fraudsters take advantage of call forwarding features.\n",
        "* Method: Criminals may gain access to a user's account and set up call forwarding to international numbers, leading to charges for the account holder.\n",
        "\n",
        "To prevent and detect IDD call fraud, service providers often implement advanced fraud detection systems, monitoring call patterns, anomalies, and other indicators of fraudulent activity. Additionally, they may employ encryption, authentication mechanisms, and secure communication protocols to safeguard against unauthorized access to telecommunication systems. Regular audits and analysis of call traffic are essential components of a comprehensive fraud prevention strategy."
      ],
      "metadata": {
        "id": "__fN65U5luJ1"
      }
    },
    {
      "cell_type": "code",
      "execution_count": null,
      "metadata": {
        "id": "UnRXwxOwgqhk"
      },
      "outputs": [],
      "source": []
    }
  ]
}