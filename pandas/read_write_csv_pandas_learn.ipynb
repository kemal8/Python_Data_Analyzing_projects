{
  "nbformat": 4,
  "nbformat_minor": 0,
  "metadata": {
    "colab": {
      "provenance": [],
      "authorship_tag": "ABX9TyNPYVs+YHL0NBgCK9yzN5I/",
      "include_colab_link": true
    },
    "kernelspec": {
      "name": "python3",
      "display_name": "Python 3"
    },
    "language_info": {
      "name": "python"
    }
  },
  "cells": [
    {
      "cell_type": "markdown",
      "metadata": {
        "id": "view-in-github",
        "colab_type": "text"
      },
      "source": [
        "<a href=\"https://colab.research.google.com/github/kemal8/Python_simple_Data_Analyzing_projects/blob/main/pandas/read_write_csv_pandas_learn.ipynb\" target=\"_parent\"><img src=\"https://colab.research.google.com/assets/colab-badge.svg\" alt=\"Open In Colab\"/></a>"
      ]
    },
    {
      "cell_type": "code",
      "execution_count": null,
      "metadata": {
        "colab": {
          "base_uri": "https://localhost:8080/"
        },
        "id": "BzIlyr4pa4sl",
        "outputId": "9113e6a5-9e1f-4cc6-fa01-90ce806c4dd1"
      },
      "outputs": [
        {
          "output_type": "stream",
          "name": "stdout",
          "text": [
            "\n",
            "Usage:   \n",
            "  pip3 install [options] <requirement specifier> [package-index-options] ...\n",
            "  pip3 install [options] -r <requirements file> [package-index-options] ...\n",
            "  pip3 install [options] [-e] <vcs project url> ...\n",
            "  pip3 install [options] [-e] <local project path> ...\n",
            "  pip3 install [options] <archive url/path> ...\n",
            "\n",
            "Description:\n",
            "  Install packages from:\n",
            "  \n",
            "  - PyPI (and other indexes) using requirement specifiers.\n",
            "  - VCS project urls.\n",
            "  - Local project directories.\n",
            "  - Local or remote source archives.\n",
            "  \n",
            "  pip also supports installing from \"requirements files\", which provide\n",
            "  an easy way to specify a whole environment to be installed.\n",
            "\n",
            "Install Options:\n",
            "  -r, --requirement <file>    Install from the given requirements file. This option can be used\n",
            "                              multiple times.\n",
            "  -c, --constraint <file>     Constrain versions using the given constraints file. This option can\n",
            "                              be used multiple times.\n",
            "  --no-deps                   Don't install package dependencies.\n",
            "  --pre                       Include pre-release and development versions. By default, pip only\n",
            "                              finds stable versions.\n",
            "  -e, --editable <path/url>   Install a project in editable mode (i.e. setuptools \"develop mode\")\n",
            "                              from a local project path or a VCS url.\n",
            "  --dry-run                   Don't actually install anything, just print what would be. Can be\n",
            "                              used in combination with --ignore-installed to 'resolve' the\n",
            "                              requirements.\n",
            "  -t, --target <dir>          Install packages into <dir>. By default this will not replace\n",
            "                              existing files/folders in <dir>. Use --upgrade to replace existing\n",
            "                              packages in <dir> with new versions.\n",
            "  --platform <platform>       Only use wheels compatible with <platform>. Defaults to the platform\n",
            "                              of the running system. Use this option multiple times to specify\n",
            "                              multiple platforms supported by the target interpreter.\n",
            "  --python-version <python_version>\n",
            "                              The Python interpreter version to use for wheel and \"Requires-\n",
            "                              Python\" compatibility checks. Defaults to a version derived from the\n",
            "                              running interpreter. The version can be specified using up to three\n",
            "                              dot-separated integers (e.g. \"3\" for 3.0.0, \"3.7\" for 3.7.0, or\n",
            "                              \"3.7.3\"). A major-minor version can also be given as a string\n",
            "                              without dots (e.g. \"37\" for 3.7.0).\n",
            "  --implementation <implementation>\n",
            "                              Only use wheels compatible with Python implementation\n",
            "                              <implementation>, e.g. 'pp', 'jy', 'cp',  or 'ip'. If not specified,\n",
            "                              then the current interpreter implementation is used.  Use 'py' to\n",
            "                              force implementation-agnostic wheels.\n",
            "  --abi <abi>                 Only use wheels compatible with Python abi <abi>, e.g. 'pypy_41'. If\n",
            "                              not specified, then the current interpreter abi tag is used. Use\n",
            "                              this option multiple times to specify multiple abis supported by the\n",
            "                              target interpreter. Generally you will need to specify\n",
            "                              --implementation, --platform, and --python-version when using this\n",
            "                              option.\n",
            "  --user                      Install to the Python user install directory for your platform.\n",
            "                              Typically ~/.local/, or %APPDATA%\\Python on Windows. (See the Python\n",
            "                              documentation for site.USER_BASE for full details.)\n",
            "  --root <dir>                Install everything relative to this alternate root directory.\n",
            "  --prefix <dir>              Installation prefix where lib, bin and other top-level folders are\n",
            "                              placed. Note that the resulting installation may contain scripts and\n",
            "                              other resources which reference the Python interpreter of pip, and\n",
            "                              not that of ``--prefix``. See also the ``--python`` option if the\n",
            "                              intention is to install packages into another (possibly pip-free)\n",
            "                              environment.\n",
            "  --src <dir>                 Directory to check out editable projects into. The default in a\n",
            "                              virtualenv is \"<venv path>/src\". The default for global installs is\n",
            "                              \"<current dir>/src\".\n",
            "  -U, --upgrade               Upgrade all specified packages to the newest available version. The\n",
            "                              handling of dependencies depends on the upgrade-strategy used.\n",
            "  --upgrade-strategy <upgrade_strategy>\n",
            "                              Determines how dependency upgrading should be handled [default:\n",
            "                              only-if-needed]. \"eager\" - dependencies are upgraded regardless of\n",
            "                              whether the currently installed version satisfies the requirements\n",
            "                              of the upgraded package(s). \"only-if-needed\" -  are upgraded only\n",
            "                              when they do not satisfy the requirements of the upgraded\n",
            "                              package(s).\n",
            "  --force-reinstall           Reinstall all packages even if they are already up-to-date.\n",
            "  -I, --ignore-installed      Ignore the installed packages, overwriting them. This can break your\n",
            "                              system if the existing package is of a different version or was\n",
            "                              installed with a different package manager!\n",
            "  --ignore-requires-python    Ignore the Requires-Python information.\n",
            "  --no-build-isolation        Disable isolation when building a modern source distribution. Build\n",
            "                              dependencies specified by PEP 518 must be already installed if this\n",
            "                              option is used.\n",
            "  --use-pep517                Use PEP 517 for building source distributions (use --no-use-pep517\n",
            "                              to force legacy behaviour).\n",
            "  --check-build-dependencies  Check the build dependencies when PEP517 is used.\n",
            "  --break-system-packages     Allow pip to modify an EXTERNALLY-MANAGED Python installation\n",
            "  -C, --config-settings <settings>\n",
            "                              Configuration settings to be passed to the PEP 517 build backend.\n",
            "                              Settings take the form KEY=VALUE. Use multiple --config-settings\n",
            "                              options to pass multiple keys to the backend.\n",
            "  --global-option <options>   Extra global options to be supplied to the setup.py call before the\n",
            "                              install or bdist_wheel command.\n",
            "  --compile                   Compile Python source files to bytecode\n",
            "  --no-compile                Do not compile Python source files to bytecode\n",
            "  --no-warn-script-location   Do not warn when installing scripts outside PATH\n",
            "  --no-warn-conflicts         Do not warn about broken dependencies\n",
            "  --no-binary <format_control>\n",
            "                              Do not use binary packages. Can be supplied multiple times, and each\n",
            "                              time adds to the existing value. Accepts either \":all:\" to disable\n",
            "                              all binary packages, \":none:\" to empty the set (notice the colons),\n",
            "                              or one or more package names with commas between them (no colons).\n",
            "                              Note that some packages are tricky to compile and may fail to\n",
            "                              install when this option is used on them.\n",
            "  --only-binary <format_control>\n",
            "                              Do not use source packages. Can be supplied multiple times, and each\n",
            "                              time adds to the existing value. Accepts either \":all:\" to disable\n",
            "                              all source packages, \":none:\" to empty the set, or one or more\n",
            "                              package names with commas between them. Packages without binary\n",
            "                              distributions will fail to install when this option is used on them.\n",
            "  --prefer-binary             Prefer older binary packages over newer source packages.\n",
            "  --require-hashes            Require a hash to check each requirement against, for repeatable\n",
            "                              installs. This option is implied when any package in a requirements\n",
            "                              file has a --hash option.\n",
            "  --progress-bar <progress_bar>\n",
            "                              Specify whether the progress bar should be used [on, off] (default:\n",
            "                              on)\n",
            "  --root-user-action <root_user_action>\n",
            "                              Action if pip is run as a root user. By default, a warning message\n",
            "                              is shown.\n",
            "  --report <file>             Generate a JSON file describing what pip did to install the provided\n",
            "                              requirements. Can be used in combination with --dry-run and\n",
            "                              --ignore-installed to 'resolve' the requirements. When - is used as\n",
            "                              file name it writes to stdout. When writing to stdout, please\n",
            "                              combine with the --quiet option to avoid mixing pip logging output\n",
            "                              with JSON output.\n",
            "  --no-clean                  Don't clean up build directories.\n",
            "\n",
            "Package Index Options:\n",
            "  -i, --index-url <url>       Base URL of the Python Package Index (default\n",
            "                              https://pypi.org/simple). This should point to a repository\n",
            "                              compliant with PEP 503 (the simple repository API) or a local\n",
            "                              directory laid out in the same format.\n",
            "  --extra-index-url <url>     Extra URLs of package indexes to use in addition to --index-url.\n",
            "                              Should follow the same rules as --index-url.\n",
            "  --no-index                  Ignore package index (only looking at --find-links URLs instead).\n",
            "  -f, --find-links <url>      If a URL or path to an html file, then parse for links to archives\n",
            "                              such as sdist (.tar.gz) or wheel (.whl) files. If a local path or\n",
            "                              file:// URL that's a directory, then look for archives in the\n",
            "                              directory listing. Links to VCS project URLs are not supported.\n",
            "\n",
            "General Options:\n",
            "  -h, --help                  Show help.\n",
            "  --debug                     Let unhandled exceptions propagate outside the main subroutine,\n",
            "                              instead of logging them to stderr.\n",
            "  --isolated                  Run pip in an isolated mode, ignoring environment variables and user\n",
            "                              configuration.\n",
            "  --require-virtualenv        Allow pip to only run in a virtual environment; exit with an error\n",
            "                              otherwise.\n",
            "  --python <python>           Run pip with the specified Python interpreter.\n",
            "  -v, --verbose               Give more output. Option is additive, and can be used up to 3 times.\n",
            "  -V, --version               Show version and exit.\n",
            "  -q, --quiet                 Give less output. Option is additive, and can be used up to 3 times\n",
            "                              (corresponding to WARNING, ERROR, and CRITICAL logging levels).\n",
            "  --log <path>                Path to a verbose appending log.\n",
            "  --no-input                  Disable prompting for input.\n",
            "  --keyring-provider <keyring_provider>\n",
            "                              Enable the credential lookup via the keyring library if user input\n",
            "                              is allowed. Specify which mechanism to use [disabled, import,\n",
            "                              subprocess]. (default: disabled)\n",
            "  --proxy <proxy>             Specify a proxy in the form\n",
            "                              scheme://[user:passwd@]proxy.server:port.\n",
            "  --retries <retries>         Maximum number of retries each connection should attempt (default 5\n",
            "                              times).\n",
            "  --timeout <sec>             Set the socket timeout (default 15 seconds).\n",
            "  --exists-action <action>    Default action when a path already exists: (s)witch, (i)gnore,\n",
            "                              (w)ipe, (b)ackup, (a)bort.\n",
            "  --trusted-host <hostname>   Mark this host or host:port pair as trusted, even though it does not\n",
            "                              have valid or any HTTPS.\n",
            "  --cert <path>               Path to PEM-encoded CA certificate bundle. If provided, overrides\n",
            "                              the default. See 'SSL Certificate Verification' in pip documentation\n",
            "                              for more information.\n",
            "  --client-cert <path>        Path to SSL client certificate, a single file containing the private\n",
            "                              key and the certificate in PEM format.\n",
            "  --cache-dir <dir>           Store the cache data in <dir>.\n",
            "  --no-cache-dir              Disable the cache.\n",
            "  --disable-pip-version-check\n",
            "                              Don't periodically check PyPI to determine whether a new version of\n",
            "                              pip is available for download. Implied with --no-index.\n",
            "  --no-color                  Suppress colored output.\n",
            "  --no-python-version-warning\n",
            "                              Silence deprecation warnings for upcoming unsupported Pythons.\n",
            "  --use-feature <feature>     Enable new functionality, that may be backward incompatible.\n",
            "  --use-deprecated <feature>  Enable deprecated functionality, that will be removed in the future.\n"
          ]
        }
      ],
      "source": [
        "pip help install"
      ]
    },
    {
      "cell_type": "code",
      "source": [
        "pip install pandas"
      ],
      "metadata": {
        "colab": {
          "base_uri": "https://localhost:8080/"
        },
        "id": "kViTrCg8b6WE",
        "outputId": "a37c2ef4-a9b0-4b4e-e399-8635fed3c12d"
      },
      "execution_count": null,
      "outputs": [
        {
          "output_type": "stream",
          "name": "stdout",
          "text": [
            "Requirement already satisfied: pandas in /usr/local/lib/python3.10/dist-packages (1.5.3)\n",
            "Requirement already satisfied: python-dateutil>=2.8.1 in /usr/local/lib/python3.10/dist-packages (from pandas) (2.8.2)\n",
            "Requirement already satisfied: pytz>=2020.1 in /usr/local/lib/python3.10/dist-packages (from pandas) (2023.3.post1)\n",
            "Requirement already satisfied: numpy>=1.21.0 in /usr/local/lib/python3.10/dist-packages (from pandas) (1.23.5)\n",
            "Requirement already satisfied: six>=1.5 in /usr/local/lib/python3.10/dist-packages (from python-dateutil>=2.8.1->pandas) (1.16.0)\n"
          ]
        }
      ]
    },
    {
      "cell_type": "code",
      "source": [
        "import pandas as pd\n",
        "\n",
        "testdataset = {\n",
        "    'name':[\"kamal\",\"amal\"],\n",
        "    'age':[22,13]\n",
        "}\n",
        "\n",
        "data = pd.DataFrame(testdataset)\n",
        "\n",
        "print(data)"
      ],
      "metadata": {
        "colab": {
          "base_uri": "https://localhost:8080/"
        },
        "id": "b28KfhKzcpkN",
        "outputId": "0350f98c-b9fd-47b9-fb2e-60eb6e5b20bb"
      },
      "execution_count": null,
      "outputs": [
        {
          "output_type": "stream",
          "name": "stdout",
          "text": [
            "    name  age\n",
            "0  kamal   22\n",
            "1   amal   13\n"
          ]
        }
      ]
    },
    {
      "cell_type": "markdown",
      "source": [
        "What is a Series?\n",
        "A Pandas Series is like a column in a table.\n",
        "\n",
        "It is a one-dimensional array holding data of any type."
      ],
      "metadata": {
        "id": "V9D7CjVrgqfV"
      }
    },
    {
      "cell_type": "code",
      "source": [
        "import pandas as pd\n",
        "\n",
        "datacolumn = [2,3,8,6,5,7,7]\n",
        "\n",
        "dataseries = pd.Series(datacolumn)\n",
        "\n",
        "print(dataseries)"
      ],
      "metadata": {
        "colab": {
          "base_uri": "https://localhost:8080/"
        },
        "id": "YQm58Yuldfk7",
        "outputId": "a8d9bb00-28d4-4500-88a4-9b5fdfcd747d"
      },
      "execution_count": null,
      "outputs": [
        {
          "output_type": "stream",
          "name": "stdout",
          "text": [
            "0    2\n",
            "1    3\n",
            "2    8\n",
            "3    6\n",
            "4    5\n",
            "5    7\n",
            "6    7\n",
            "dtype: int64\n"
          ]
        }
      ]
    },
    {
      "cell_type": "markdown",
      "source": [
        "# **Labels**\n",
        "\n",
        "If nothing else is specified, the values are labeled with their index number. First value has index 0, second value has index 1 etc.\n",
        "\n",
        "This label can be used to access a specified value.\n",
        "\n",
        "With the index argument, you can name your own labels.**bold text**"
      ],
      "metadata": {
        "id": "2wZoxefOigEa"
      }
    },
    {
      "cell_type": "code",
      "source": [
        "import pandas as pd\n",
        "\n",
        "datanonlable = [2,2,3,6,7,8,9]\n",
        "\n",
        "lableddata = pd.Series(datanonlable, index = [\"x\",\"y\",\"z\",\"a\",\"b\",\"c\",\"d\"])\n",
        "\n",
        "print(lableddata)"
      ],
      "metadata": {
        "colab": {
          "base_uri": "https://localhost:8080/"
        },
        "id": "H_KXSeLch3l7",
        "outputId": "fbc56924-6328-41f1-9d42-e8a1984ca5fb"
      },
      "execution_count": null,
      "outputs": [
        {
          "output_type": "stream",
          "name": "stdout",
          "text": [
            "x    2\n",
            "y    2\n",
            "z    3\n",
            "a    6\n",
            "b    7\n",
            "c    8\n",
            "d    9\n",
            "dtype: int64\n"
          ]
        }
      ]
    },
    {
      "cell_type": "markdown",
      "source": [
        "# Key/Value Objects as Series\n",
        "You can also use a key/value object, like a dictionary, when creating a Series."
      ],
      "metadata": {
        "id": "7LiueHafkNBi"
      }
    },
    {
      "cell_type": "code",
      "source": [
        "import pandas as pd\n",
        "\n",
        "dataset = {\"a\":798, \"b\":896, \"c\":465, \"d\":273, \"e\":573}\n",
        "\n",
        "datakey = pd.Series(dataset)\n",
        "\n",
        "print(datakey)"
      ],
      "metadata": {
        "colab": {
          "base_uri": "https://localhost:8080/"
        },
        "id": "GvMzFHR1kTmI",
        "outputId": "e6b643dd-d3d9-46d0-ef77-225c403a42ae"
      },
      "execution_count": null,
      "outputs": [
        {
          "output_type": "stream",
          "name": "stdout",
          "text": [
            "a    798\n",
            "b    896\n",
            "c    465\n",
            "d    273\n",
            "e    573\n",
            "dtype: int64\n"
          ]
        }
      ]
    },
    {
      "cell_type": "code",
      "source": [
        "import pandas as pd\n",
        "\n",
        "calories = {\"day1\": 420, \"day2\": 380, \"day3\": 390}\n",
        "\n",
        "myvar = pd.Series(calories, index = [\"day1\", \"day2\"])\n",
        "\n",
        "print(myvar)"
      ],
      "metadata": {
        "colab": {
          "base_uri": "https://localhost:8080/"
        },
        "id": "Z7fYrQholYQW",
        "outputId": "90ba343f-4287-4f37-e993-178355f5915b"
      },
      "execution_count": null,
      "outputs": [
        {
          "output_type": "stream",
          "name": "stdout",
          "text": [
            "day1    420\n",
            "day2    380\n",
            "dtype: int64\n"
          ]
        }
      ]
    },
    {
      "cell_type": "markdown",
      "source": [
        "# DataFrames\n",
        "\n",
        "A Pandas DataFrame is a 2 dimensional data structure, like a 2 dimensional array, or a table with rows and columns.\n",
        "\n",
        "Data sets in Pandas are usually multi-dimensional tables, called DataFrames.\n",
        "\n",
        "Series is like a column, a DataFrame is the whole table."
      ],
      "metadata": {
        "id": "YIaw272blsDM"
      }
    },
    {
      "cell_type": "code",
      "source": [
        "import pandas as pd\n",
        "\n",
        "detaset2 = {\n",
        "    \"KEY\" : [243,834,839],\n",
        "    \"VAL\" : [283,337,823],\n",
        "    \"NIM\" : [483,243,224]\n",
        "}\n",
        "\n",
        "dataDF = pd.DataFrame(detaset2)\n",
        "\n",
        "print(dataDF)"
      ],
      "metadata": {
        "colab": {
          "base_uri": "https://localhost:8080/"
        },
        "id": "45fkFQKilv8B",
        "outputId": "5ddb9307-8b77-425b-8bcb-28eee545b290"
      },
      "execution_count": null,
      "outputs": [
        {
          "output_type": "stream",
          "name": "stdout",
          "text": [
            "   KEY  VAL  NIM\n",
            "0  243  283  483\n",
            "1  834  337  243\n",
            "2  839  823  224\n"
          ]
        }
      ]
    },
    {
      "cell_type": "code",
      "source": [
        "#refer to the row index:\n",
        "print(dataDF.loc[0])\n",
        "print(dataDF.loc[2])\n",
        "print(dataDF.loc[[1, 2]])"
      ],
      "metadata": {
        "colab": {
          "base_uri": "https://localhost:8080/"
        },
        "id": "sogDrEd8fmaM",
        "outputId": "a1c70d25-f25b-4bad-9507-b5cb4ce8b856"
      },
      "execution_count": null,
      "outputs": [
        {
          "output_type": "stream",
          "name": "stdout",
          "text": [
            "KEY    243\n",
            "VAL    283\n",
            "NIM    483\n",
            "Name: 0, dtype: int64\n",
            "KEY    839\n",
            "VAL    823\n",
            "NIM    224\n",
            "Name: 2, dtype: int64\n",
            "   KEY  VAL  NIM\n",
            "1  834  337  243\n",
            "2  839  823  224\n"
          ]
        }
      ]
    },
    {
      "cell_type": "markdown",
      "source": [
        "# Named Indexes\n",
        "With the index argument, you can name your own indexes."
      ],
      "metadata": {
        "id": "aMAHrBb_iEcg"
      }
    },
    {
      "cell_type": "code",
      "source": [
        "import pandas as pd\n",
        "\n",
        "dataset3 = {\n",
        "    \"A\" : [1,2,3],\n",
        "    \"B\" : [4,5,6],\n",
        "    \"C\" : [7,8,9]\n",
        "}\n",
        "\n",
        "dataDF1 = pd.DataFrame(dataset3)\n",
        "\n",
        "print(dataset3)\n",
        "print(\"\\n\")\n",
        "print(dataDF1)\n",
        "print(\"\\n\")\n",
        "\n",
        "dataDF2 = pd.DataFrame(dataset3,index = [\"AB\",\"BC\",\"CD\"])\n",
        "\n",
        "print(dataDF2)\n",
        "print(\"\\n\")\n",
        "\n",
        "#refer to the named index:\n",
        "print(dataDF2.loc[\"BC\"])\n"
      ],
      "metadata": {
        "colab": {
          "base_uri": "https://localhost:8080/"
        },
        "id": "z93UUqtGiIvL",
        "outputId": "3b4e8afb-a8a9-4337-cc01-b9a451e591aa"
      },
      "execution_count": null,
      "outputs": [
        {
          "output_type": "stream",
          "name": "stdout",
          "text": [
            "{'A': [1, 2, 3], 'B': [4, 5, 6], 'C': [7, 8, 9]}\n",
            "\n",
            "\n",
            "   A  B  C\n",
            "0  1  4  7\n",
            "1  2  5  8\n",
            "2  3  6  9\n",
            "\n",
            "\n",
            "    A  B  C\n",
            "AB  1  4  7\n",
            "BC  2  5  8\n",
            "CD  3  6  9\n",
            "\n",
            "\n",
            "A    2\n",
            "B    5\n",
            "C    8\n",
            "Name: BC, dtype: int64\n"
          ]
        }
      ]
    },
    {
      "cell_type": "markdown",
      "source": [
        "# Read CSV Files\n",
        "A simple way to store big data sets is to use CSV files (comma separated files).\n",
        "\n",
        "CSV files contains plain text and is a well know format that can be read by everyone including Pandas.\n",
        "\n",
        "In our examples we will be using a CSV file called 'data.csv'."
      ],
      "metadata": {
        "id": "-U1NmJDhysQE"
      }
    },
    {
      "cell_type": "code",
      "source": [
        "from google.colab import drive\n",
        "drive.mount('/content/drive')"
      ],
      "metadata": {
        "colab": {
          "base_uri": "https://localhost:8080/"
        },
        "id": "iVlxxa3olwHp",
        "outputId": "a8b4614d-9f8b-4926-8265-96e0eb7e6dc6"
      },
      "execution_count": null,
      "outputs": [
        {
          "output_type": "stream",
          "name": "stdout",
          "text": [
            "Mounted at /content/drive\n"
          ]
        }
      ]
    },
    {
      "cell_type": "code",
      "source": [
        "file_path = '/content/drive/MyDrive/ColabNotebooks/TestDF.csv'"
      ],
      "metadata": {
        "id": "cEhNmj_quNus"
      },
      "execution_count": null,
      "outputs": []
    },
    {
      "cell_type": "code",
      "source": [
        "from google.colab import drive\n",
        "import pandas as pd\n",
        "\n",
        "# Mount Google Drive\n",
        "drive.mount('/content/drive')\n",
        "\n",
        "# Specify the CSV file path\n",
        "file_path = '/content/drive/MyDrive/ColabNotebooks/TestDF.csv'\n",
        "\n",
        "# Read the CSV file into a DataFrame\n",
        "dataDF3 = pd.read_csv(file_path)\n",
        "\n",
        "# Display the DataFrame\n",
        "print(dataDF3)\n"
      ],
      "metadata": {
        "colab": {
          "base_uri": "https://localhost:8080/"
        },
        "id": "0uFe77TeuYdB",
        "outputId": "3a2b1672-f9d3-4440-94b8-ba2ba82052ad"
      },
      "execution_count": null,
      "outputs": [
        {
          "output_type": "stream",
          "name": "stdout",
          "text": [
            "Drive already mounted at /content/drive; to attempt to forcibly remount, call drive.mount(\"/content/drive\", force_remount=True).\n",
            "           ymd  long_vah  short_veh  pers_veh  two_weel  three_weel  pedestri\n",
            "0   2023/02/16        23         26        67       170          67      3538\n",
            "1   2023/02/17        19         47        87       154          75      2159\n",
            "2   2023/02/18        24         42       198       186         136      2667\n",
            "3   2023/02/19         9         29       266       164          88      2114\n",
            "4   2023/02/20         8        104       189       117          60      4125\n",
            "5   2023/02/21         7        129       260       146          52      4711\n",
            "6   2023/02/22         3         87       266       135         126      2813\n",
            "7   2023/02/23        15        145       216       200         135      1276\n",
            "8   2023/02/24        25         79        68       140          97      2889\n",
            "9   2023/02/25        19         48       219       186         127      3878\n",
            "10  2023/02/26         8         35       242       193         116      1938\n",
            "11  2023/02/27         3         57        87       166         107      1779\n",
            "12  2023/02/28        14         57       213       180          52      3633\n",
            "13  2023/03/01        18         41       134       102         143      2958\n",
            "14  2023/03/02        13        119       165       129         137      3457\n",
            "15  2023/03/03        15        130       168       170          76      3380\n",
            "16  2023/03/04        25         64       112       169          72      3562\n",
            "17  2023/03/05        12         53        48       156         127      2616\n",
            "18  2023/03/06         3        156       270       147         126      3180\n",
            "19  2023/03/07         5         42       256       132          87      2192\n",
            "20  2023/03/08        14        131       131       148         109      4758\n",
            "21  2023/03/09        24         28       210       106          85      3620\n",
            "22  2023/03/10        20         53       246       191          85      2319\n",
            "23  2023/03/11        18        102        60       116          53      2237\n",
            "24  2023/03/12        18        103       175       128         142      4179\n",
            "25  2023/03/13        14        140       191       104         110      2518\n",
            "26  2023/03/14        14        136       176       175         149      4387\n",
            "27  2023/03/15         5        113       117       121          92      1461\n",
            "28  2023/03/16        11        143       257       131          89      4921\n",
            "29  2023/03/17         7         29        87       128         142      2047\n"
          ]
        }
      ]
    }
  ]
}